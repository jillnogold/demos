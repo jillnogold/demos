{
 "cells": [
  {
   "cell_type": "markdown",
   "metadata": {},
   "source": [
    "# Network Operations Demo - Train, Test, and Deploy\n",
    "\n",
    "This project demonstrates how to build an automated machine-learning (ML) pipeline for predicting network outages based on network-device telemetry. This notebook is the second part (out of 2) of the demo. This part demonstrates how to train, test and deploy a model and use offline and real-time data from the feature store.\n",
    "\n",
    "**In this notebook:**\n",
    "* **Create a Feature Vector that consists of data joined from the three feature sets you created**\n",
    "* **Create an offline dataset from the feature vector to feed the ML training process**\n",
    "* **Run automated ML Pipeline which train, test, and deploy the model**\n",
    "* **Test the deployed real-time serving function**\n",
    "\n",
    "When you finish this notebook, you should have a running network-device failure prediction system."
   ]
  },
  {
   "cell_type": "markdown",
   "metadata": {},
   "source": [
    "## Get and init the MLRun project"
   ]
  },
  {
   "cell_type": "code",
   "execution_count": 63,
   "metadata": {},
   "outputs": [
    {
     "name": "stdout",
     "output_type": "stream",
     "text": [
      "> 2022-01-06 00:43:34,055 [info] loaded project network-operations from MLRun DB\n"
     ]
    }
   ],
   "source": [
    "import os\n",
    "import numpy as np\n",
    "import mlrun\n",
    "import mlrun.feature_store as fstore\n",
    "\n",
    "# Create the project\n",
    "project = mlrun.get_or_create_project('network-operations', \"./\", user_project=True)"
   ]
  },
  {
   "cell_type": "markdown",
   "metadata": {},
   "source": [
    "## Create a new Feature Vector\n",
    "The goal is to create a single dataset that contain datas from the static devices dataset, the device metrics, and the labels.\n",
    "You'll define a **Feature Vector** and specify the desired features. When the vector is retrieved the feature store automatically and correctly joins the data from the different feature sets based on the entity (index) keys and the timestamp values.\n",
    "\n",
    "To define and save the `device_features` feature vector"
   ]
  },
  {
   "cell_type": "code",
   "execution_count": 2,
   "metadata": {},
   "outputs": [],
   "source": [
    "# Define the `device_features` Feature Vector\n",
    "fv = fstore.FeatureVector('device_features',\n",
    "                          features=['device_metrics.*', 'static.*'], \n",
    "                          label_feature='device_labels.is_error')\n",
    "\n",
    "# Save the Feature Vector to MLRun's feature store DB\n",
    "fv.save()"
   ]
  },
  {
   "cell_type": "markdown",
   "metadata": {},
   "source": [
    "## Get an offline dataset for the feature vector\n",
    "Once you have defined the feature vector and ingested some data, you can request the feature store to create an offline dataset, e.g. a snapshot of the data between the dates you want available to be loaded as parquet or csv files or as a pandas Dataframe.\n",
    "\n",
    "you can later reference the created offline dataset via a special artifact url (`fv.url`).\n",
    "\n",
    "**Make sure you run this AFTER the feature set data was ingested (using batch or real-time)**"
   ]
  },
  {
   "cell_type": "code",
   "execution_count": 67,
   "metadata": {},
   "outputs": [
    {
     "name": "stdout",
     "output_type": "stream",
     "text": [
      "> 2022-01-06 23:41:56,892 [info] wrote target: {'name': 'parquet', 'kind': 'parquet', 'path': 'v3io:///projects/network-operations-admin/FeatureStore/device_features/parquet/vectors/device_features-latest.parquet', 'status': 'ready', 'updated': '2022-01-06T23:41:56.891986+00:00', 'size': 1867880}\n",
      "\n",
      "Training set shape: (16600, 46)\n"
     ]
    },
    {
     "data": {
      "text/html": [
       "<div>\n",
       "<style scoped>\n",
       "    .dataframe tbody tr th:only-of-type {\n",
       "        vertical-align: middle;\n",
       "    }\n",
       "\n",
       "    .dataframe tbody tr th {\n",
       "        vertical-align: top;\n",
       "    }\n",
       "\n",
       "    .dataframe thead th {\n",
       "        text-align: right;\n",
       "    }\n",
       "</style>\n",
       "<table border=\"1\" class=\"dataframe\">\n",
       "  <thead>\n",
       "    <tr style=\"text-align: right;\">\n",
       "      <th></th>\n",
       "      <th>cpu_utilization_avg_1h</th>\n",
       "      <th>cpu_utilization_avg_6h</th>\n",
       "      <th>cpu_utilization_min_1h</th>\n",
       "      <th>cpu_utilization_min_6h</th>\n",
       "      <th>cpu_utilization_max_1h</th>\n",
       "      <th>cpu_utilization_max_6h</th>\n",
       "      <th>throughput_avg_1h</th>\n",
       "      <th>throughput_avg_6h</th>\n",
       "      <th>throughput_min_1h</th>\n",
       "      <th>throughput_min_6h</th>\n",
       "      <th>...</th>\n",
       "      <th>model_1</th>\n",
       "      <th>model_2</th>\n",
       "      <th>model_3</th>\n",
       "      <th>model_4</th>\n",
       "      <th>model_5</th>\n",
       "      <th>model_6</th>\n",
       "      <th>model_7</th>\n",
       "      <th>model_8</th>\n",
       "      <th>model_9</th>\n",
       "      <th>is_error</th>\n",
       "    </tr>\n",
       "  </thead>\n",
       "  <tbody>\n",
       "    <tr>\n",
       "      <th>0</th>\n",
       "      <td>58.693214</td>\n",
       "      <td>58.693214</td>\n",
       "      <td>58.693214</td>\n",
       "      <td>58.693214</td>\n",
       "      <td>58.693214</td>\n",
       "      <td>58.693214</td>\n",
       "      <td>252.768164</td>\n",
       "      <td>252.768164</td>\n",
       "      <td>252.768164</td>\n",
       "      <td>252.768164</td>\n",
       "      <td>...</td>\n",
       "      <td>0</td>\n",
       "      <td>0</td>\n",
       "      <td>0</td>\n",
       "      <td>0</td>\n",
       "      <td>0</td>\n",
       "      <td>0</td>\n",
       "      <td>1</td>\n",
       "      <td>0</td>\n",
       "      <td>0</td>\n",
       "      <td>False</td>\n",
       "    </tr>\n",
       "    <tr>\n",
       "      <th>1</th>\n",
       "      <td>67.609449</td>\n",
       "      <td>67.609449</td>\n",
       "      <td>67.609449</td>\n",
       "      <td>67.609449</td>\n",
       "      <td>67.609449</td>\n",
       "      <td>67.609449</td>\n",
       "      <td>252.041031</td>\n",
       "      <td>252.041031</td>\n",
       "      <td>252.041031</td>\n",
       "      <td>252.041031</td>\n",
       "      <td>...</td>\n",
       "      <td>0</td>\n",
       "      <td>0</td>\n",
       "      <td>0</td>\n",
       "      <td>0</td>\n",
       "      <td>0</td>\n",
       "      <td>0</td>\n",
       "      <td>0</td>\n",
       "      <td>1</td>\n",
       "      <td>0</td>\n",
       "      <td>False</td>\n",
       "    </tr>\n",
       "    <tr>\n",
       "      <th>2</th>\n",
       "      <td>84.435367</td>\n",
       "      <td>84.435367</td>\n",
       "      <td>84.435367</td>\n",
       "      <td>84.435367</td>\n",
       "      <td>84.435367</td>\n",
       "      <td>84.435367</td>\n",
       "      <td>239.414858</td>\n",
       "      <td>239.414858</td>\n",
       "      <td>239.414858</td>\n",
       "      <td>239.414858</td>\n",
       "      <td>...</td>\n",
       "      <td>0</td>\n",
       "      <td>0</td>\n",
       "      <td>0</td>\n",
       "      <td>0</td>\n",
       "      <td>0</td>\n",
       "      <td>0</td>\n",
       "      <td>1</td>\n",
       "      <td>0</td>\n",
       "      <td>0</td>\n",
       "      <td>False</td>\n",
       "    </tr>\n",
       "    <tr>\n",
       "      <th>3</th>\n",
       "      <td>76.544394</td>\n",
       "      <td>76.544394</td>\n",
       "      <td>76.544394</td>\n",
       "      <td>76.544394</td>\n",
       "      <td>76.544394</td>\n",
       "      <td>76.544394</td>\n",
       "      <td>217.954234</td>\n",
       "      <td>217.954234</td>\n",
       "      <td>217.954234</td>\n",
       "      <td>217.954234</td>\n",
       "      <td>...</td>\n",
       "      <td>0</td>\n",
       "      <td>1</td>\n",
       "      <td>0</td>\n",
       "      <td>0</td>\n",
       "      <td>0</td>\n",
       "      <td>0</td>\n",
       "      <td>0</td>\n",
       "      <td>0</td>\n",
       "      <td>0</td>\n",
       "      <td>False</td>\n",
       "    </tr>\n",
       "    <tr>\n",
       "      <th>4</th>\n",
       "      <td>78.245362</td>\n",
       "      <td>78.245362</td>\n",
       "      <td>78.245362</td>\n",
       "      <td>78.245362</td>\n",
       "      <td>78.245362</td>\n",
       "      <td>78.245362</td>\n",
       "      <td>227.595164</td>\n",
       "      <td>227.595164</td>\n",
       "      <td>227.595164</td>\n",
       "      <td>227.595164</td>\n",
       "      <td>...</td>\n",
       "      <td>0</td>\n",
       "      <td>0</td>\n",
       "      <td>0</td>\n",
       "      <td>0</td>\n",
       "      <td>0</td>\n",
       "      <td>0</td>\n",
       "      <td>0</td>\n",
       "      <td>0</td>\n",
       "      <td>1</td>\n",
       "      <td>False</td>\n",
       "    </tr>\n",
       "  </tbody>\n",
       "</table>\n",
       "<p>5 rows × 46 columns</p>\n",
       "</div>"
      ],
      "text/plain": [
       "   cpu_utilization_avg_1h  cpu_utilization_avg_6h  cpu_utilization_min_1h  \\\n",
       "0               58.693214               58.693214               58.693214   \n",
       "1               67.609449               67.609449               67.609449   \n",
       "2               84.435367               84.435367               84.435367   \n",
       "3               76.544394               76.544394               76.544394   \n",
       "4               78.245362               78.245362               78.245362   \n",
       "\n",
       "   cpu_utilization_min_6h  cpu_utilization_max_1h  cpu_utilization_max_6h  \\\n",
       "0               58.693214               58.693214               58.693214   \n",
       "1               67.609449               67.609449               67.609449   \n",
       "2               84.435367               84.435367               84.435367   \n",
       "3               76.544394               76.544394               76.544394   \n",
       "4               78.245362               78.245362               78.245362   \n",
       "\n",
       "   throughput_avg_1h  throughput_avg_6h  throughput_min_1h  throughput_min_6h  \\\n",
       "0         252.768164         252.768164         252.768164         252.768164   \n",
       "1         252.041031         252.041031         252.041031         252.041031   \n",
       "2         239.414858         239.414858         239.414858         239.414858   \n",
       "3         217.954234         217.954234         217.954234         217.954234   \n",
       "4         227.595164         227.595164         227.595164         227.595164   \n",
       "\n",
       "   ...  model_1  model_2  model_3  model_4  model_5  model_6  model_7  \\\n",
       "0  ...        0        0        0        0        0        0        1   \n",
       "1  ...        0        0        0        0        0        0        0   \n",
       "2  ...        0        0        0        0        0        0        1   \n",
       "3  ...        0        1        0        0        0        0        0   \n",
       "4  ...        0        0        0        0        0        0        0   \n",
       "\n",
       "   model_8  model_9  is_error  \n",
       "0        0        0     False  \n",
       "1        1        0     False  \n",
       "2        0        0     False  \n",
       "3        0        0     False  \n",
       "4        0        1     False  \n",
       "\n",
       "[5 rows x 46 columns]"
      ]
     },
     "execution_count": 67,
     "metadata": {},
     "output_type": "execute_result"
    }
   ],
   "source": [
    "# Request (get or create) the offline dataset from the feature store and save to a parquet target\n",
    "dataset_ref = fstore.get_offline_features(fv, target=mlrun.datastore.targets.ParquetTarget())\n",
    "\n",
    "# Get the generated offline dataset as a pandas DataFrame\n",
    "dataset = dataset_ref.to_dataframe()\n",
    "print(\"\\nTraining set shape:\", dataset.shape)\n",
    "dataset.head()"
   ]
  },
  {
   "cell_type": "code",
   "execution_count": 4,
   "metadata": {},
   "outputs": [
    {
     "data": {
      "text/plain": [
       "array([False,  True])"
      ]
     },
     "execution_count": 4,
     "metadata": {},
     "output_type": "execute_result"
    }
   ],
   "source": [
    "# Verify that the dataset contains proper labels (must have both True & False values)\n",
    "dataset.is_error.unique()"
   ]
  },
  {
   "cell_type": "markdown",
   "metadata": {},
   "source": [
    "## Model training and deployment using the feature vector\n",
    "Now that the dataset is ready for training, you need to define the model training, testing and deployment process.\n",
    "\n",
    "Build an automated ML pipeline that uses pre-baked serverless training, testing and serving functions from [MLRun's functions marketplace](https://www.mlrun.org/marketplace/). The pipeline has three steps:\n",
    "* Train a model using data from the feature vector you created and save it to the model registry\n",
    "* Run model test/evaluation with a portion of the data\n",
    "* Deploy a real-time serving function that uses the newly trained model, and enrich/impute the features with data from the real-time feature vector \n",
    "\n",
    "You can see the [**workflow code**](./src/workflow.py). You can run this workflow locally, in a CI/CD framework, or over Kubeflow. In practice you can create different workflows for development and production.\n",
    "\n",
    "The workflow/pipeline can be executed using the MLRun SDK (`project.run()` method) or using CLI commands (`mlrun project`), and can run directly from the source repo (GIT). See details in MLRun [**Projects and Automation documentation**](https://docs.mlrun.org/en/latest/projects/overview.html).\n",
    "\n",
    "When you run the workflow you can set arguments and destination for the different artifacts. The pipeline progress is shown in the notebook. Alternatively you can check the progress, logs, artifacts, etc. in the MLRun UI.\n",
    "\n",
    "If you want to run the same using CLI, type:\n",
    "\n",
    "```python\n",
    "    mlrun project -n myproj -r ./src/workflow.py .\n",
    "```\n"
   ]
  },
  {
   "cell_type": "code",
   "execution_count": 62,
   "metadata": {},
   "outputs": [
    {
     "data": {
      "image/svg+xml": [
       "<?xml version=\"1.0\" encoding=\"UTF-8\" standalone=\"no\"?>\n",
       "<!DOCTYPE svg PUBLIC \"-//W3C//DTD SVG 1.1//EN\"\n",
       " \"http://www.w3.org/Graphics/SVG/1.1/DTD/svg11.dtd\">\n",
       "<!-- Generated by graphviz version 2.40.1 (20161225.0304)\n",
       " -->\n",
       "<!-- Title: kfp Pages: 1 -->\n",
       "<svg width=\"206pt\" height=\"116pt\"\n",
       " viewBox=\"0.00 0.00 205.60 116.00\" xmlns=\"http://www.w3.org/2000/svg\" xmlns:xlink=\"http://www.w3.org/1999/xlink\">\n",
       "<g id=\"graph0\" class=\"graph\" transform=\"scale(1 1) rotate(0) translate(4 112)\">\n",
       "<title>kfp</title>\n",
       "<polygon fill=\"#ffffff\" stroke=\"transparent\" points=\"-4,4 -4,-112 201.5975,-112 201.5975,4 -4,4\"/>\n",
       "<!-- netops&#45;demo&#45;prxk7&#45;1212022885 -->\n",
       "<g id=\"node1\" class=\"node\">\n",
       "<title>netops&#45;demo&#45;prxk7&#45;1212022885</title>\n",
       "<ellipse fill=\"#00ff00\" stroke=\"#000000\" cx=\"28.5975\" cy=\"-18\" rx=\"28.6953\" ry=\"18\"/>\n",
       "<text text-anchor=\"middle\" x=\"28.5975\" y=\"-14.3\" font-family=\"Times,serif\" font-size=\"14.00\" fill=\"#000000\">test</text>\n",
       "</g>\n",
       "<!-- netops&#45;demo&#45;prxk7&#45;3972841449 -->\n",
       "<g id=\"node2\" class=\"node\">\n",
       "<title>netops&#45;demo&#45;prxk7&#45;3972841449</title>\n",
       "<ellipse fill=\"#00ff00\" stroke=\"#000000\" cx=\"82.5975\" cy=\"-90\" rx=\"33.2948\" ry=\"18\"/>\n",
       "<text text-anchor=\"middle\" x=\"82.5975\" y=\"-86.3\" font-family=\"Times,serif\" font-size=\"14.00\" fill=\"#000000\">train</text>\n",
       "</g>\n",
       "<!-- netops&#45;demo&#45;prxk7&#45;3972841449&#45;&gt;netops&#45;demo&#45;prxk7&#45;1212022885 -->\n",
       "<g id=\"edge2\" class=\"edge\">\n",
       "<title>netops&#45;demo&#45;prxk7&#45;3972841449&#45;&gt;netops&#45;demo&#45;prxk7&#45;1212022885</title>\n",
       "<path fill=\"none\" stroke=\"#000000\" d=\"M70.073,-73.3008C63.2576,-64.2135 54.6949,-52.7966 47.1222,-42.6996\"/>\n",
       "<polygon fill=\"#000000\" stroke=\"#000000\" points=\"49.854,-40.5087 41.054,-34.6087 44.254,-44.7087 49.854,-40.5087\"/>\n",
       "</g>\n",
       "<!-- netops&#45;demo&#45;prxk7&#45;4190852259 -->\n",
       "<g id=\"node3\" class=\"node\">\n",
       "<title>netops&#45;demo&#45;prxk7&#45;4190852259</title>\n",
       "<polygon fill=\"#00ff00\" stroke=\"#000000\" points=\"197.5975,-36 79.5975,-36 75.5975,-32 75.5975,0 193.5975,0 197.5975,-4 197.5975,-36\"/>\n",
       "<polyline fill=\"none\" stroke=\"#000000\" points=\"193.5975,-32 75.5975,-32 \"/>\n",
       "<polyline fill=\"none\" stroke=\"#000000\" points=\"193.5975,-32 193.5975,0 \"/>\n",
       "<polyline fill=\"none\" stroke=\"#000000\" points=\"193.5975,-32 197.5975,-36 \"/>\n",
       "<text text-anchor=\"middle\" x=\"136.5975\" y=\"-14.3\" font-family=\"Times,serif\" font-size=\"14.00\" fill=\"#000000\">deploy&#45;serving</text>\n",
       "</g>\n",
       "<!-- netops&#45;demo&#45;prxk7&#45;3972841449&#45;&gt;netops&#45;demo&#45;prxk7&#45;4190852259 -->\n",
       "<g id=\"edge1\" class=\"edge\">\n",
       "<title>netops&#45;demo&#45;prxk7&#45;3972841449&#45;&gt;netops&#45;demo&#45;prxk7&#45;4190852259</title>\n",
       "<path fill=\"none\" stroke=\"#000000\" d=\"M95.1219,-73.3008C101.58,-64.6899 109.6069,-53.9874 116.8739,-44.2981\"/>\n",
       "<polygon fill=\"#000000\" stroke=\"#000000\" points=\"119.8058,-46.2222 123.0058,-36.1222 114.2058,-42.0222 119.8058,-46.2222\"/>\n",
       "</g>\n",
       "</g>\n",
       "</svg>\n"
      ],
      "text/plain": [
       "<graphviz.dot.Digraph at 0x7fb73a79e310>"
      ]
     },
     "metadata": {},
     "output_type": "display_data"
    },
    {
     "data": {
      "text/html": [
       "<h2>Run Results</h2>Workflow cfa99d6f-300a-4254-b3c4-7625ecf25e85 finished, state=Succeeded<br>Click the hyper links below to see detailed results<br><table border=\"1\" class=\"dataframe\">\n",
       "  <thead>\n",
       "    <tr style=\"text-align: right;\">\n",
       "      <th>uid</th>\n",
       "      <th>start</th>\n",
       "      <th>state</th>\n",
       "      <th>name</th>\n",
       "      <th>results</th>\n",
       "      <th>artifacts</th>\n",
       "    </tr>\n",
       "  </thead>\n",
       "  <tbody>\n",
       "    <tr>\n",
       "      <td><div title=\"7237856e8a4043ec9a5c7624746a56b2\"><a href=\"https://dashboard.default-tenant.app.yh41.iguazio-cd1.com/mlprojects/network-operations-admin/jobs/monitor/7237856e8a4043ec9a5c7624746a56b2/overview\" target=\"_blank\" >...746a56b2</a></div></td>\n",
       "      <td>Jan 06 00:22:32</td>\n",
       "      <td>completed</td>\n",
       "      <td>test</td>\n",
       "      <td><div class=\"dictlist\">accuracy=0.9857142857142858</div><div class=\"dictlist\">test-error=0.014285714285714285</div><div class=\"dictlist\">rocauc=0.9991464663707749</div><div class=\"dictlist\">brier_score=0.010732142857142858</div><div class=\"dictlist\">f1-score=0.9702970297029703</div><div class=\"dictlist\">precision_score=0.9702970297029703</div><div class=\"dictlist\">recall_score=0.9702970297029703</div></td>\n",
       "      <td><div class=\"artifact\" onclick=\"expandPanel(this)\" paneName=\"result\" title=\"files/v3io/projects/network-operations-admin/artifacts/pipeline/cfa99d6f-300a-4254-b3c4-7625ecf25e85/plots/probability-calibration.html\">probability-calibration</div><div class=\"artifact\" onclick=\"expandPanel(this)\" paneName=\"result\" title=\"files/v3io/projects/network-operations-admin/artifacts/pipeline/cfa99d6f-300a-4254-b3c4-7625ecf25e85/plots/confusion-matrix.html\">confusion-matrix</div><div class=\"artifact\" onclick=\"expandPanel(this)\" paneName=\"result\" title=\"files/v3io/projects/network-operations-admin/artifacts/pipeline/cfa99d6f-300a-4254-b3c4-7625ecf25e85/plots/feature-importances.html\">feature-importances</div><div class=\"artifact\" onclick=\"expandPanel(this)\" paneName=\"result\" title=\"files/v3io/projects/network-operations-admin/artifacts/pipeline/cfa99d6f-300a-4254-b3c4-7625ecf25e85/plots/precision-recall-binary.html\">precision-recall-binary</div><div class=\"artifact\" onclick=\"expandPanel(this)\" paneName=\"result\" title=\"files/v3io/projects/network-operations-admin/artifacts/pipeline/cfa99d6f-300a-4254-b3c4-7625ecf25e85/plots/roc-binary.html\">roc-binary</div><div title=\"v3io:///projects/network-operations-admin/artifacts/pipeline/cfa99d6f-300a-4254-b3c4-7625ecf25e85/test_set_preds.parquet\">test_set_preds</div></td>\n",
       "    </tr>\n",
       "    <tr>\n",
       "      <td><div title=\"dac36c8852a845bda5649547dc4dbb3d\"><a href=\"https://dashboard.default-tenant.app.yh41.iguazio-cd1.com/mlprojects/network-operations-admin/jobs/monitor/dac36c8852a845bda5649547dc4dbb3d/overview\" target=\"_blank\" >...dc4dbb3d</a></div></td>\n",
       "      <td>Jan 06 00:22:16</td>\n",
       "      <td>completed</td>\n",
       "      <td>train</td>\n",
       "      <td><div class=\"dictlist\">accuracy=1.0</div><div class=\"dictlist\">test-error=0.0</div><div class=\"dictlist\">rocauc=1.0</div><div class=\"dictlist\">brier_score=0.0016115646258503403</div><div class=\"dictlist\">f1-score=1.0</div><div class=\"dictlist\">precision_score=1.0</div><div class=\"dictlist\">recall_score=1.0</div></td>\n",
       "      <td><div title=\"v3io:///projects/network-operations-admin/artifacts/pipeline/cfa99d6f-300a-4254-b3c4-7625ecf25e85/data/test_set.parquet\">test_set</div><div class=\"artifact\" onclick=\"expandPanel(this)\" paneName=\"result\" title=\"files/v3io/projects/network-operations-admin/artifacts/pipeline/cfa99d6f-300a-4254-b3c4-7625ecf25e85/model/plots/probability-calibration.html\">probability-calibration</div><div class=\"artifact\" onclick=\"expandPanel(this)\" paneName=\"result\" title=\"files/v3io/projects/network-operations-admin/artifacts/pipeline/cfa99d6f-300a-4254-b3c4-7625ecf25e85/model/plots/confusion-matrix.html\">confusion-matrix</div><div class=\"artifact\" onclick=\"expandPanel(this)\" paneName=\"result\" title=\"files/v3io/projects/network-operations-admin/artifacts/pipeline/cfa99d6f-300a-4254-b3c4-7625ecf25e85/model/plots/feature-importances.html\">feature-importances</div><div class=\"artifact\" onclick=\"expandPanel(this)\" paneName=\"result\" title=\"files/v3io/projects/network-operations-admin/artifacts/pipeline/cfa99d6f-300a-4254-b3c4-7625ecf25e85/model/plots/precision-recall-binary.html\">precision-recall-binary</div><div class=\"artifact\" onclick=\"expandPanel(this)\" paneName=\"result\" title=\"files/v3io/projects/network-operations-admin/artifacts/pipeline/cfa99d6f-300a-4254-b3c4-7625ecf25e85/model/plots/roc-binary.html\">roc-binary</div><div title=\"v3io:///projects/network-operations-admin/artifacts/pipeline/cfa99d6f-300a-4254-b3c4-7625ecf25e85/model/\">model</div></td>\n",
       "    </tr>\n",
       "  </tbody>\n",
       "</table>"
      ],
      "text/plain": [
       "<IPython.core.display.HTML object>"
      ]
     },
     "metadata": {},
     "output_type": "display_data"
    }
   ],
   "source": [
    "import os\n",
    "pipeline_path = mlrun.mlconf.artifact_path\n",
    "model_name = \"netops\"\n",
    "\n",
    "# run the workflow\n",
    "run_id = project.run(\n",
    "    workflow_path=\"./src/workflow.py\",\n",
    "    arguments={\"model_name\": model_name}, \n",
    "    artifact_path=os.path.join(pipeline_path, \"pipeline\", '{{workflow.uid}}'),\n",
    "    watch=True)"
   ]
  },
  {
   "cell_type": "markdown",
   "metadata": {},
   "source": [
    "## Test the Live Model Endpoint\n",
    "To test the live model endpoint, first grab a list of IDs from the static feature set it produced. Then use these IDs and send them through a loop to the live endpoint."
   ]
  },
  {
   "cell_type": "markdown",
   "metadata": {},
   "source": [
    "### Grab IDs from the static devices table"
   ]
  },
  {
   "cell_type": "code",
   "execution_count": 45,
   "metadata": {},
   "outputs": [
    {
     "name": "stdout",
     "output_type": "stream",
     "text": [
      "Devices sample: ['8936164993151' '0813098629185' '6013359346575' '9110707557378']\n"
     ]
    }
   ],
   "source": [
    "# Load the static feature set\n",
    "fset = fstore.get_feature_set('static')\n",
    "\n",
    "# Get a dataframe from the feature set\n",
    "devices = fset.to_dataframe().reset_index()['device'].values\n",
    "print('Devices sample:', devices[:4])"
   ]
  },
  {
   "cell_type": "markdown",
   "metadata": {},
   "source": [
    "### Send a sample ID to the model endpoint"
   ]
  },
  {
   "cell_type": "code",
   "execution_count": 48,
   "metadata": {},
   "outputs": [
    {
     "name": "stdout",
     "output_type": "stream",
     "text": [
      "> 2022-01-06 00:09:54,691 [info] invoking function: {'method': 'POST', 'path': 'http://nuclio-network-operations-admin-serving.default-tenant.svc.cluster.local:8080/v2/models/netops/infer'}\n"
     ]
    },
    {
     "data": {
      "text/plain": [
       "{'id': 'aa139402-400e-4d3d-8d60-0e12210b0487',\n",
       " 'model_name': 'netops',\n",
       " 'outputs': [False]}"
      ]
     },
     "execution_count": 48,
     "metadata": {},
     "output_type": "execute_result"
    }
   ],
   "source": [
    "serving_fn = project.get_function('serving')\n",
    "serving_fn.invoke(path=f'/v2/models/{model_name}/infer', body={'inputs': [[devices[0]]]})"
   ]
  },
  {
   "cell_type": "markdown",
   "metadata": {},
   "source": [
    "### Continously send IDs to the model "
   ]
  },
  {
   "cell_type": "code",
   "execution_count": 49,
   "metadata": {},
   "outputs": [
    {
     "name": "stdout",
     "output_type": "stream",
     "text": [
      "> 2022-01-06 00:09:56,243 [info] invoking function: {'method': 'POST', 'path': 'http://nuclio-network-operations-admin-serving.default-tenant.svc.cluster.local:8080/v2/models/netops/infer'}\n",
      "Sent: [['4753365617775'], ['7709108040279']]\n",
      "Response: {'id': 'b30382b7-270d-4461-95ae-c4b800f67aca', 'model_name': 'netops', 'outputs': [False, False]}\n",
      "Predictions: [(['4753365617775'], False), (['7709108040279'], False)]\n",
      "> 2022-01-06 00:10:06,299 [info] invoking function: {'method': 'POST', 'path': 'http://nuclio-network-operations-admin-serving.default-tenant.svc.cluster.local:8080/v2/models/netops/infer'}\n",
      "Sent: [['2238314358399'], ['8936164993151']]\n",
      "Response: {'id': '523356b4-90e2-41f5-b273-0da9e97327ab', 'model_name': 'netops', 'outputs': [False, False]}\n",
      "Predictions: [(['2238314358399'], False), (['8936164993151'], False)]\n",
      "> 2022-01-06 00:10:16,375 [info] invoking function: {'method': 'POST', 'path': 'http://nuclio-network-operations-admin-serving.default-tenant.svc.cluster.local:8080/v2/models/netops/infer'}\n",
      "Sent: [['8936164993151'], ['9755997921470']]\n",
      "Response: {'id': '23d662a2-0827-4927-8d8a-745c54f0fe0a', 'model_name': 'netops', 'outputs': [False, False]}\n",
      "Predictions: [(['8936164993151'], False), (['9755997921470'], False)]\n",
      "> 2022-01-06 00:10:26,415 [info] invoking function: {'method': 'POST', 'path': 'http://nuclio-network-operations-admin-serving.default-tenant.svc.cluster.local:8080/v2/models/netops/infer'}\n",
      "Sent: [['0813098629185'], ['7709108040279']]\n",
      "Response: {'id': '66a54748-f5d7-4dfd-9053-fe8654dc829d', 'model_name': 'netops', 'outputs': [True, False]}\n",
      "Predictions: [(['0813098629185'], True), (['7709108040279'], False)]\n",
      "> 2022-01-06 00:10:36,455 [info] invoking function: {'method': 'POST', 'path': 'http://nuclio-network-operations-admin-serving.default-tenant.svc.cluster.local:8080/v2/models/netops/infer'}\n",
      "Sent: [['8268799948646'], ['0813098629185']]\n",
      "Response: {'id': '3e961d09-3825-431f-a4e7-1f86c4571d44', 'model_name': 'netops', 'outputs': [True, False]}\n",
      "Predictions: [(['8268799948646'], True), (['0813098629185'], False)]\n"
     ]
    }
   ],
   "source": [
    "import random\n",
    "import time\n",
    "\n",
    "MSGS_TO_SEND = 5\n",
    "IDS_PER_MSG = 2\n",
    "TIMEOUT_BETWEEN_SENDS = 10\n",
    "for i in range(MSGS_TO_SEND):\n",
    "    ids_for_prediction = [[random.choice(devices)] for i in range(IDS_PER_MSG)]\n",
    "    resp = serving_fn.invoke(path=f'/v2/models/{model_name}/infer', body={'inputs': ids_for_prediction})\n",
    "    print('Sent:', ids_for_prediction)\n",
    "    print('Response:', resp)\n",
    "    print('Predictions:', list(zip(ids_for_prediction, resp['outputs'])))\n",
    "    time.sleep(TIMEOUT_BETWEEN_SENDS)"
   ]
  },
  {
   "cell_type": "code",
   "execution_count": null,
   "metadata": {},
   "outputs": [],
   "source": []
  }
 ],
 "metadata": {
  "kernelspec": {
   "display_name": "Python 3",
   "language": "python",
   "name": "python3"
  },
  "language_info": {
   "codemirror_mode": {
    "name": "ipython",
    "version": 3
   },
   "file_extension": ".py",
   "mimetype": "text/x-python",
   "name": "python",
   "nbconvert_exporter": "python",
   "pygments_lexer": "ipython3",
   "version": "3.7.6"
  }
 },
 "nbformat": 4,
 "nbformat_minor": 4
}
